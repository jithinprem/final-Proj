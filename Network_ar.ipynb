{
 "cells": [
  {
   "cell_type": "code",
   "execution_count": 2,
   "id": "8ad40307",
   "metadata": {},
   "outputs": [],
   "source": [
    "import os\n",
    "import pdb\n",
    "import sys\n",
    "import cv2\n",
    "import yaml\n",
    "import torch\n",
    "import random\n",
    "import importlib\n",
    "import faulthandler\n",
    "import numpy as np\n",
    "import torch.nn as nn\n",
    "from collections import OrderedDict"
   ]
  },
  {
   "cell_type": "code",
   "execution_count": 7,
   "id": "2865c78b",
   "metadata": {},
   "outputs": [],
   "source": [
    "class OurArgs:\n",
    "    work_dir = './work_dir/temp'\n",
    "    config = './configs/baseline.yaml'\n",
    "    phase = 'train'\n",
    "    random_seed = 0\n",
    "    dataset = None\n",
    "    dataset_info = dict()\n",
    "    num_worker = 4\n",
    "    feeder_args = dict()\n",
    "    batch_size = 16\n",
    "    test_batch_size = 8\n",
    "    optimizer_args = {\n",
    "        \"base_lr\": 1e-2,\n",
    "        \"optimizer\": \"SGD\",\n",
    "        \"nesterov\": False,\n",
    "        \"step\": [5, 10],\n",
    "        \"weight_decay\": 0.00005,\n",
    "        \"start_epoch\": 1,\n",
    "    }\n",
    "    loss_weights = {\n",
    "        \"SeqCTC\": 1.0,\n",
    "    }\n",
    "    num_epoch = 80\n",
    "    \n"
   ]
  },
  {
   "cell_type": "code",
   "execution_count": null,
   "id": "18c66aa6",
   "metadata": {},
   "outputs": [],
   "source": []
  },
  {
   "cell_type": "code",
   "execution_count": null,
   "id": "217cf93e",
   "metadata": {},
   "outputs": [],
   "source": [
    "class SLRModel(nn.Module):\n",
    "    def __init__(\n",
    "            self, num_classes, c2d_type, conv_type, use_bn=False,\n",
    "            hidden_size=1024, gloss_dict=None, loss_weights=None,\n",
    "            weight_norm=True, share_classifier=True\n",
    "    ):\n",
    "        \n",
    "        \n",
    "    \n",
    "    "
   ]
  },
  {
   "cell_type": "code",
   "execution_count": null,
   "id": "d051759a",
   "metadata": {},
   "outputs": [],
   "source": []
  }
 ],
 "metadata": {
  "kernelspec": {
   "display_name": "Python 3",
   "language": "python",
   "name": "python3"
  },
  "language_info": {
   "codemirror_mode": {
    "name": "ipython",
    "version": 3
   },
   "file_extension": ".py",
   "mimetype": "text/x-python",
   "name": "python",
   "nbconvert_exporter": "python",
   "pygments_lexer": "ipython3",
   "version": "3.8.8"
  }
 },
 "nbformat": 4,
 "nbformat_minor": 5
}
